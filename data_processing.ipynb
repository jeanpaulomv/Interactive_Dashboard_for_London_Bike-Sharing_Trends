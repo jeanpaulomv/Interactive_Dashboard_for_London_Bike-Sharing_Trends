{
 "cells": [
  {
   "cell_type": "code",
   "execution_count": 1,
   "metadata": {},
   "outputs": [
    {
     "name": "stdout",
     "output_type": "stream",
     "text": [
      "Warning: Your Kaggle API key is readable by other users on this system! To fix this, you can run 'chmod 600 /Users/jeanpa/.kaggle/kaggle.json'\n"
     ]
    },
    {
     "name": "stderr",
     "output_type": "stream",
     "text": [
      "/Users/jeanpa/Library/Python/3.9/lib/python/site-packages/urllib3/__init__.py:35: NotOpenSSLWarning: urllib3 v2 only supports OpenSSL 1.1.1+, currently the 'ssl' module is compiled with 'LibreSSL 2.8.3'. See: https://github.com/urllib3/urllib3/issues/3020\n",
      "  warnings.warn(\n"
     ]
    }
   ],
   "source": [
    "# Uncomment the pip install code below if you haven't installed these libraries yet\n",
    "#!pip install pandas\n",
    "#!pip install zipfile \n",
    "#!pip install kaggle \n",
    "\n",
    "\n",
    "# import the pandas libraries\n",
    "import pandas as pd \n",
    "\n",
    "# import zipfile library (we will use this to extract the file downloaded from Kaggle)\n",
    "import zipfile\n",
    "\n",
    "# import kaggle library (we will use this to download the dataset programatically from Kaggle)\n",
    "import kaggle"
   ]
  }
 ],
 "metadata": {
  "kernelspec": {
   "display_name": "Python 3",
   "language": "python",
   "name": "python3"
  },
  "language_info": {
   "codemirror_mode": {
    "name": "ipython",
    "version": 3
   },
   "file_extension": ".py",
   "mimetype": "text/x-python",
   "name": "python",
   "nbconvert_exporter": "python",
   "pygments_lexer": "ipython3",
   "version": "3.9.6"
  }
 },
 "nbformat": 4,
 "nbformat_minor": 2
}
